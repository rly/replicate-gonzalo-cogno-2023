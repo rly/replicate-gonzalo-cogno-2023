{
 "cells": [
  {
   "cell_type": "code",
   "execution_count": 6,
   "id": "7a533a51-53a1-4d12-b9dc-63c8617aee17",
   "metadata": {},
   "outputs": [],
   "source": [
    "import pynapple as nap"
   ]
  },
  {
   "cell_type": "code",
   "execution_count": 20,
   "id": "dbd4a28e-332e-4d6e-8cfb-eb9ffc7ce93d",
   "metadata": {},
   "outputs": [],
   "source": [
    "tsg = nap.TsGroup({\n",
    "    100: nap.Ts([0.1, 0.2, 0.3, 0.4]),\n",
    "    200: nap.Ts([0.2, 0.5, 0.55, 0.8, 1.1]),\n",
    "})"
   ]
  },
  {
   "cell_type": "code",
   "execution_count": 21,
   "id": "f58c076b-7afb-490f-b146-8f93419a7f5d",
   "metadata": {},
   "outputs": [
    {
     "data": {
      "text/plain": [
       "  Index    rate\n",
       "-------  ------\n",
       "    100       4\n",
       "    200       5"
      ]
     },
     "execution_count": 21,
     "metadata": {},
     "output_type": "execute_result"
    }
   ],
   "source": [
    "tsg"
   ]
  },
  {
   "cell_type": "code",
   "execution_count": 26,
   "id": "61950227-a9f6-4a1d-9188-df3b78b15f54",
   "metadata": {},
   "outputs": [
    {
     "data": {
      "text/plain": [
       "Time (s)      100    200\n",
       "----------  -----  -----\n",
       "0.125           1      0\n",
       "0.175           0      0\n",
       "0.225           1      1\n",
       "0.275           0      0\n",
       "0.325           1      0\n",
       "0.375           0      0\n",
       "0.425           1      0\n",
       "...\n",
       "0.775           0      0\n",
       "0.825           0      1\n",
       "0.875           0      0\n",
       "0.925           0      0\n",
       "0.975           0      0\n",
       "1.025           0      0\n",
       "1.075           0      0\n",
       "dtype: int64, shape: (20, 2)"
      ]
     },
     "execution_count": 26,
     "metadata": {},
     "output_type": "execute_result"
    }
   ],
   "source": [
    "count = tsg.count(bin_size=0.05)\n",
    "count"
   ]
  },
  {
   "cell_type": "code",
   "execution_count": 27,
   "id": "01eb2634-4789-4a70-87cd-422793925308",
   "metadata": {},
   "outputs": [
    {
     "data": {
      "text/plain": [
       "pynapple.core.time_series.TsdFrame"
      ]
     },
     "execution_count": 27,
     "metadata": {},
     "output_type": "execute_result"
    }
   ],
   "source": [
    "type(count)"
   ]
  },
  {
   "cell_type": "code",
   "execution_count": 31,
   "id": "63ef4ffd-4550-44ca-8df4-3d443e36e9f2",
   "metadata": {},
   "outputs": [
    {
     "data": {
      "text/plain": [
       "Time (s)          0        1\n",
       "----------  -------  -------\n",
       "0.125       0.36961  0.01753\n",
       "0.175       0.48246  0.12952\n",
       "0.225       0.49913  0.35207\n",
       "0.275       0.49998  0.35207\n",
       "0.325       0.49998  0.12953\n",
       "0.375       0.49913  0.01842\n",
       "0.425       0.48246  0.01927\n",
       "...\n",
       "0.775       0        0.13041\n",
       "0.825       0        0.35208\n",
       "0.875       0        0.35207\n",
       "0.925       0        0.12952\n",
       "0.975       0        0.01753\n",
       "1.025       0        0.00087\n",
       "1.075       0        2e-05\n",
       "dtype: float64, shape: (20, 2)"
      ]
     },
     "execution_count": 31,
     "metadata": {},
     "output_type": "execute_result"
    }
   ],
   "source": [
    "smoothed_binned = count.smooth(0.05)\n",
    "smoothed_binned"
   ]
  },
  {
   "cell_type": "code",
   "execution_count": null,
   "id": "8ef06a6f-38f6-477f-b16f-1b9f75606971",
   "metadata": {},
   "outputs": [],
   "source": []
  }
 ],
 "metadata": {
  "kernelspec": {
   "display_name": "Python 3 (ipykernel)",
   "language": "python",
   "name": "python3"
  },
  "language_info": {
   "codemirror_mode": {
    "name": "ipython",
    "version": 3
   },
   "file_extension": ".py",
   "mimetype": "text/x-python",
   "name": "python",
   "nbconvert_exporter": "python",
   "pygments_lexer": "ipython3",
   "version": "3.12.4"
  }
 },
 "nbformat": 4,
 "nbformat_minor": 5
}
